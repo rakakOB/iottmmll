{
 "cells": [
  {
   "cell_type": "code",
   "execution_count": 7,
   "id": "5e7d7aa9",
   "metadata": {},
   "outputs": [
    {
     "name": "stdout",
     "output_type": "stream",
     "text": [
      "training dataset:\n",
      "['sunny', 'warm', 'normal', 'strong', 'warm', 'same', 'yes']\n",
      "['sunny', 'warm', 'high', 'strong', 'warm', 'same', 'yes']\n",
      "['rainy', 'cold', 'high', 'strong', 'warm', 'change', 'no']\n",
      "['sunny', 'warm', 'high', 'strong', 'cool', 'change', 'yes']\n",
      "\n",
      " Find-S algm:\n",
      " Initialize h to the most specific hypothesis\n",
      "h 0=  ['0', '0', '0', '0', '0', '0'] \n",
      "\n",
      "example 1 is positive,Change Hypothesis\n",
      "h 1 = ['sunny', 'warm', 'normal', 'strong', 'warm', 'same'] \n",
      "\n",
      "example 2 is positive,Change Hypothesis\n",
      "h 2 = ['sunny', 'warm', '?', 'strong', 'warm', 'same'] \n",
      "\n",
      "example 3 is negative,do nothing\n",
      "h 3 = ['sunny', 'warm', '?', 'strong', 'warm', 'same'] \n",
      "\n",
      "example 4 is positive,Change Hypothesis\n",
      "h 4 = ['sunny', 'warm', '?', 'strong', '?', '?'] \n",
      "\n",
      "Maximally specific Hypothesis h= ['sunny', 'warm', '?', 'strong', '?', '?']\n"
     ]
    }
   ],
   "source": [
    "import csv\n",
    "with open(\"enjoysport1.csv\",\"r\") as f:\n",
    "    readdata=csv.reader(f)\n",
    "    ds=list(readdata)\n",
    "print(\"training dataset:\")\n",
    "for row in ds:\n",
    "    print(row)\n",
    "attribute_length=len(ds[0])-1\n",
    "h=['0']*attribute_length\n",
    "print(\"\\n Find-S algm:\\n Initialize h to the most specific hypothesis\")\n",
    "print(\"h 0= \",h,\"\\n\")\n",
    "i=1\n",
    "for row in ds:\n",
    "    if row[-1]==\"yes\":\n",
    "        print(\"example\",i,\"is positive,Change Hypothesis\")\n",
    "        j=0\n",
    "        for col in row:\n",
    "            if col!=\"yes\":\n",
    "                if col!=h[j] and h[j]=='0':\n",
    "                    h[j]=col\n",
    "                elif col!=h[j] and h[j]!='0':\n",
    "                    h[j]='?'\n",
    "                j=j+1 \n",
    "                \n",
    "    else:\n",
    "        print(\"example\",i,\"is negative,do nothing\")\n",
    "    print(\"h\",i,\"=\",h,\"\\n\")\n",
    "    i=i+1\n",
    "print(\"Maximally specific Hypothesis h=\",h)"
   ]
  },
  {
   "cell_type": "code",
   "execution_count": null,
   "id": "150a03e7",
   "metadata": {},
   "outputs": [],
   "source": []
  },
  {
   "cell_type": "code",
   "execution_count": null,
   "id": "1b9afef3",
   "metadata": {},
   "outputs": [],
   "source": []
  },
  {
   "cell_type": "code",
   "execution_count": null,
   "id": "dafd8a8a-1b9e-4377-ac02-95f47db1f03a",
   "metadata": {},
   "outputs": [],
   "source": []
  }
 ],
 "metadata": {
  "kernelspec": {
   "display_name": "Python 3 (ipykernel)",
   "language": "python",
   "name": "python3"
  },
  "language_info": {
   "codemirror_mode": {
    "name": "ipython",
    "version": 3
   },
   "file_extension": ".py",
   "mimetype": "text/x-python",
   "name": "python",
   "nbconvert_exporter": "python",
   "pygments_lexer": "ipython3",
   "version": "3.8.10"
  }
 },
 "nbformat": 4,
 "nbformat_minor": 5
}
