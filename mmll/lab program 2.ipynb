{
 "cells": [
  {
   "cell_type": "code",
   "execution_count": 2,
   "id": "72d6023c",
   "metadata": {},
   "outputs": [
    {
     "name": "stdout",
     "output_type": "stream",
     "text": [
      "training data\n",
      "['sunny', 'warm', 'normal', 'strong', 'warm', 'same', 'yes']\n",
      "['sunny', 'warm', 'high', 'strong', 'warm', 'same', 'yes']\n",
      "['rainy', 'cold', 'high', 'strong', 'warm', 'change', 'no']\n",
      "['sunny', 'warm', 'high', 'strong', 'cool', 'change', 'yes']\n",
      "----------------------------------------------\n",
      "the hypothesis are\n",
      "S=  ['0', '0', '0', '0', '0', '0']\n",
      "G=  ['?', '?', '?', '?', '?', '?']\n",
      "----------------------------------------------------\n",
      "S=  ['0', '0', '0', '0', '0', '0']\n",
      "G= ['?', '?', '?', '?', '?', '?']\n",
      "-------------------------------------------------------\n",
      "----------------------------------------------------\n",
      "S=  ['0', '0', '0', '0', '0', '0']\n",
      "G= ['?', '?', '?', '?', '?', '?']\n",
      "-------------------------------------------------------\n",
      "----------------------------------------------------\n",
      "S=  ['0', '0', '0', '0', '0', '0']\n",
      "G= ['?', '?', '?', '?', '?', '?']\n",
      "-------------------------------------------------------\n",
      "----------------------------------------------------\n",
      "S=  ['0', '0', '0', '0', '0', '0']\n",
      "G= ['?', '?', '?', '?', '?', '?']\n",
      "-------------------------------------------------------\n"
     ]
    }
   ],
   "source": [
    "import csv\n",
    "with open('enjoysport1.csv','r') as f:\n",
    "    reader=csv.reader(f)\n",
    "    data=list(reader)\n",
    "    #training data from csv\n",
    "print(\"training data\")\n",
    "for row in data:\n",
    "    print(row)\n",
    "print(\"----------------------------------------------\")\n",
    "attr_len=len(data[0])-1\n",
    "#initialize specific and general hypothesis\n",
    "s=['0']*attr_len\n",
    "G=['?']*attr_len\n",
    "temp=[] #altered G\n",
    "print(\"the hypothesis are\")\n",
    "print(\"S= \",s)\n",
    "print(\"G= \",G)\n",
    "print(\"----------------------------------------------\")\n",
    "for row in data:\n",
    "    if row[-1]=='yes':\n",
    "        j=0\n",
    "        for col in row :\n",
    "            if col!='yes':\n",
    "                if col!=s[j] and s[j]=='0':\n",
    "                    s[j]=col\n",
    "                elif col!=s[j] and s[j]!='0':\n",
    "                    s[j]='?'\n",
    "            j=j+1\n",
    "\n",
    "        for j in range(0,attr_len):\n",
    "            for k in temp:\n",
    "                if k[j]!=s[j] and k[j]!='?':\n",
    "                    temp.remove(k)\n",
    "    if row[-1]=='no':\n",
    "        j=0\n",
    "        for col in row:\n",
    "            if col!='no':\n",
    "                if col!=s[j] and s[j]!='?':\n",
    "                    if s[j]=='0':\n",
    "                        G[j]=col\n",
    "                    else:\n",
    "                        G[j]=s[j]\n",
    "                    temp.append(G)\n",
    "                    G=['?']*attr_len\n",
    "            j=j+1\n",
    "    print('----------------------------------------------------')\n",
    "    print(\"S= \",s)\n",
    "    if len(temp)==0:\n",
    "        print(\"G=\",G)\n",
    "    else:\n",
    "        print(\"G= \",temp)\n",
    "    print('-------------------------------------------------------')"
   ]
  },
  {
   "cell_type": "code",
   "execution_count": null,
   "id": "476339b6",
   "metadata": {},
   "outputs": [],
   "source": []
  },
  {
   "cell_type": "code",
   "execution_count": null,
   "id": "1812f21c",
   "metadata": {},
   "outputs": [],
   "source": []
  },
  {
   "cell_type": "code",
   "execution_count": null,
   "id": "701365d4",
   "metadata": {},
   "outputs": [],
   "source": []
  }
 ],
 "metadata": {
  "kernelspec": {
   "display_name": "Python 3 (ipykernel)",
   "language": "python",
   "name": "python3"
  },
  "language_info": {
   "codemirror_mode": {
    "name": "ipython",
    "version": 3
   },
   "file_extension": ".py",
   "mimetype": "text/x-python",
   "name": "python",
   "nbconvert_exporter": "python",
   "pygments_lexer": "ipython3",
   "version": "3.8.10"
  }
 },
 "nbformat": 4,
 "nbformat_minor": 5
}
